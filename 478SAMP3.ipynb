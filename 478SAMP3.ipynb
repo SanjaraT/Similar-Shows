{
  "nbformat": 4,
  "nbformat_minor": 0,
  "metadata": {
    "colab": {
      "provenance": [],
      "authorship_tag": "ABX9TyOSzqTxW6sZDkiTJ2i3tG0v",
      "include_colab_link": true
    },
    "kernelspec": {
      "name": "python3",
      "display_name": "Python 3"
    },
    "language_info": {
      "name": "python"
    }
  },
  "cells": [
    {
      "cell_type": "markdown",
      "metadata": {
        "id": "view-in-github",
        "colab_type": "text"
      },
      "source": [
        "<a href=\"https://colab.research.google.com/github/SanjaraT/Similar-Shows/blob/main/478SAMP3.ipynb\" target=\"_parent\"><img src=\"https://colab.research.google.com/assets/colab-badge.svg\" alt=\"Open In Colab\"/></a>"
      ]
    },
    {
      "cell_type": "code",
      "execution_count": 1,
      "metadata": {
        "id": "rVkIG98es1Z5"
      },
      "outputs": [],
      "source": [
        "import pandas as pd\n",
        "import numpy as np\n",
        "import seaborn as sns\n",
        "import matplotlib.pyplot as plt\n",
        "%matplotlib inline"
      ]
    },
    {
      "cell_type": "code",
      "source": [
        "from google.colab import drive\n",
        "drive.mount('/content/drive')"
      ],
      "metadata": {
        "id": "C2f9xCyCuIk1",
        "outputId": "69661bda-6ad0-4617-9010-fef8517bd83f",
        "colab": {
          "base_uri": "https://localhost:8080/"
        }
      },
      "execution_count": 3,
      "outputs": [
        {
          "output_type": "stream",
          "name": "stdout",
          "text": [
            "Mounted at /content/drive\n"
          ]
        }
      ]
    },
    {
      "cell_type": "markdown",
      "source": [
        "#Loading Dataset"
      ],
      "metadata": {
        "id": "ozid6cv7uLWn"
      }
    },
    {
      "cell_type": "code",
      "source": [
        "df=pd.read_csv('/content/drive/MyDrive/IMDB.csv')\n",
        "df.head()"
      ],
      "metadata": {
        "id": "JAyt2jniuQ64",
        "outputId": "b966b024-e0b5-4cdd-ea62-b14e14ef97f4",
        "colab": {
          "base_uri": "https://localhost:8080/",
          "height": 556
        }
      },
      "execution_count": 7,
      "outputs": [
        {
          "output_type": "execute_result",
          "data": {
            "text/plain": [
              "                  Name       Year Episodes   Type  Rating  \\\n",
              "0      1. Breaking Bad  2008–2013   62 eps  TV-MA     9.5   \n",
              "1   2. Planet Earth II       2016    6 eps   TV-G     9.5   \n",
              "2      3. Planet Earth       2006   11 eps  TV-PG     9.4   \n",
              "3  4. Band of Brothers       2001   10 eps  TV-MA     9.4   \n",
              "4         5. Chernobyl       2019    5 eps  TV-MA     9.4   \n",
              "\n",
              "                                           Image-src  \\\n",
              "0  https://m.media-amazon.com/images/M/MV5BYmQ4YW...   \n",
              "1  https://m.media-amazon.com/images/M/MV5BMGZmYm...   \n",
              "2  https://m.media-amazon.com/images/M/MV5BMzMyYj...   \n",
              "3  https://m.media-amazon.com/images/M/MV5BMTI3OD...   \n",
              "4  https://m.media-amazon.com/images/M/MV5BNTdkN2...   \n",
              "\n",
              "                                         Description  \\\n",
              "0  A chemistry teacher diagnosed with inoperable ...   \n",
              "1  David Attenborough returns with a new wildlife...   \n",
              "2  A documentary series on the wildlife found on ...   \n",
              "3  The story of Easy Company of the U.S. Army 101...   \n",
              "4  In April 1986, an explosion at the Chernobyl n...   \n",
              "\n",
              "                                           Name-href  \n",
              "0  https://www.imdb.com/title/tt0903747/?ref_=cht...  \n",
              "1  https://www.imdb.com/title/tt5491994/?ref_=cht...  \n",
              "2  https://www.imdb.com/title/tt0795176/?ref_=cht...  \n",
              "3  https://www.imdb.com/title/tt0185906/?ref_=cht...  \n",
              "4  https://www.imdb.com/title/tt7366338/?ref_=cht...  "
            ],
            "text/html": [
              "\n",
              "  <div id=\"df-86f862c7-0016-4d23-a596-5a91c7c46027\" class=\"colab-df-container\">\n",
              "    <div>\n",
              "<style scoped>\n",
              "    .dataframe tbody tr th:only-of-type {\n",
              "        vertical-align: middle;\n",
              "    }\n",
              "\n",
              "    .dataframe tbody tr th {\n",
              "        vertical-align: top;\n",
              "    }\n",
              "\n",
              "    .dataframe thead th {\n",
              "        text-align: right;\n",
              "    }\n",
              "</style>\n",
              "<table border=\"1\" class=\"dataframe\">\n",
              "  <thead>\n",
              "    <tr style=\"text-align: right;\">\n",
              "      <th></th>\n",
              "      <th>Name</th>\n",
              "      <th>Year</th>\n",
              "      <th>Episodes</th>\n",
              "      <th>Type</th>\n",
              "      <th>Rating</th>\n",
              "      <th>Image-src</th>\n",
              "      <th>Description</th>\n",
              "      <th>Name-href</th>\n",
              "    </tr>\n",
              "  </thead>\n",
              "  <tbody>\n",
              "    <tr>\n",
              "      <th>0</th>\n",
              "      <td>1. Breaking Bad</td>\n",
              "      <td>2008–2013</td>\n",
              "      <td>62 eps</td>\n",
              "      <td>TV-MA</td>\n",
              "      <td>9.5</td>\n",
              "      <td>https://m.media-amazon.com/images/M/MV5BYmQ4YW...</td>\n",
              "      <td>A chemistry teacher diagnosed with inoperable ...</td>\n",
              "      <td>https://www.imdb.com/title/tt0903747/?ref_=cht...</td>\n",
              "    </tr>\n",
              "    <tr>\n",
              "      <th>1</th>\n",
              "      <td>2. Planet Earth II</td>\n",
              "      <td>2016</td>\n",
              "      <td>6 eps</td>\n",
              "      <td>TV-G</td>\n",
              "      <td>9.5</td>\n",
              "      <td>https://m.media-amazon.com/images/M/MV5BMGZmYm...</td>\n",
              "      <td>David Attenborough returns with a new wildlife...</td>\n",
              "      <td>https://www.imdb.com/title/tt5491994/?ref_=cht...</td>\n",
              "    </tr>\n",
              "    <tr>\n",
              "      <th>2</th>\n",
              "      <td>3. Planet Earth</td>\n",
              "      <td>2006</td>\n",
              "      <td>11 eps</td>\n",
              "      <td>TV-PG</td>\n",
              "      <td>9.4</td>\n",
              "      <td>https://m.media-amazon.com/images/M/MV5BMzMyYj...</td>\n",
              "      <td>A documentary series on the wildlife found on ...</td>\n",
              "      <td>https://www.imdb.com/title/tt0795176/?ref_=cht...</td>\n",
              "    </tr>\n",
              "    <tr>\n",
              "      <th>3</th>\n",
              "      <td>4. Band of Brothers</td>\n",
              "      <td>2001</td>\n",
              "      <td>10 eps</td>\n",
              "      <td>TV-MA</td>\n",
              "      <td>9.4</td>\n",
              "      <td>https://m.media-amazon.com/images/M/MV5BMTI3OD...</td>\n",
              "      <td>The story of Easy Company of the U.S. Army 101...</td>\n",
              "      <td>https://www.imdb.com/title/tt0185906/?ref_=cht...</td>\n",
              "    </tr>\n",
              "    <tr>\n",
              "      <th>4</th>\n",
              "      <td>5. Chernobyl</td>\n",
              "      <td>2019</td>\n",
              "      <td>5 eps</td>\n",
              "      <td>TV-MA</td>\n",
              "      <td>9.4</td>\n",
              "      <td>https://m.media-amazon.com/images/M/MV5BNTdkN2...</td>\n",
              "      <td>In April 1986, an explosion at the Chernobyl n...</td>\n",
              "      <td>https://www.imdb.com/title/tt7366338/?ref_=cht...</td>\n",
              "    </tr>\n",
              "  </tbody>\n",
              "</table>\n",
              "</div>\n",
              "    <div class=\"colab-df-buttons\">\n",
              "\n",
              "  <div class=\"colab-df-container\">\n",
              "    <button class=\"colab-df-convert\" onclick=\"convertToInteractive('df-86f862c7-0016-4d23-a596-5a91c7c46027')\"\n",
              "            title=\"Convert this dataframe to an interactive table.\"\n",
              "            style=\"display:none;\">\n",
              "\n",
              "  <svg xmlns=\"http://www.w3.org/2000/svg\" height=\"24px\" viewBox=\"0 -960 960 960\">\n",
              "    <path d=\"M120-120v-720h720v720H120Zm60-500h600v-160H180v160Zm220 220h160v-160H400v160Zm0 220h160v-160H400v160ZM180-400h160v-160H180v160Zm440 0h160v-160H620v160ZM180-180h160v-160H180v160Zm440 0h160v-160H620v160Z\"/>\n",
              "  </svg>\n",
              "    </button>\n",
              "\n",
              "  <style>\n",
              "    .colab-df-container {\n",
              "      display:flex;\n",
              "      gap: 12px;\n",
              "    }\n",
              "\n",
              "    .colab-df-convert {\n",
              "      background-color: #E8F0FE;\n",
              "      border: none;\n",
              "      border-radius: 50%;\n",
              "      cursor: pointer;\n",
              "      display: none;\n",
              "      fill: #1967D2;\n",
              "      height: 32px;\n",
              "      padding: 0 0 0 0;\n",
              "      width: 32px;\n",
              "    }\n",
              "\n",
              "    .colab-df-convert:hover {\n",
              "      background-color: #E2EBFA;\n",
              "      box-shadow: 0px 1px 2px rgba(60, 64, 67, 0.3), 0px 1px 3px 1px rgba(60, 64, 67, 0.15);\n",
              "      fill: #174EA6;\n",
              "    }\n",
              "\n",
              "    .colab-df-buttons div {\n",
              "      margin-bottom: 4px;\n",
              "    }\n",
              "\n",
              "    [theme=dark] .colab-df-convert {\n",
              "      background-color: #3B4455;\n",
              "      fill: #D2E3FC;\n",
              "    }\n",
              "\n",
              "    [theme=dark] .colab-df-convert:hover {\n",
              "      background-color: #434B5C;\n",
              "      box-shadow: 0px 1px 3px 1px rgba(0, 0, 0, 0.15);\n",
              "      filter: drop-shadow(0px 1px 2px rgba(0, 0, 0, 0.3));\n",
              "      fill: #FFFFFF;\n",
              "    }\n",
              "  </style>\n",
              "\n",
              "    <script>\n",
              "      const buttonEl =\n",
              "        document.querySelector('#df-86f862c7-0016-4d23-a596-5a91c7c46027 button.colab-df-convert');\n",
              "      buttonEl.style.display =\n",
              "        google.colab.kernel.accessAllowed ? 'block' : 'none';\n",
              "\n",
              "      async function convertToInteractive(key) {\n",
              "        const element = document.querySelector('#df-86f862c7-0016-4d23-a596-5a91c7c46027');\n",
              "        const dataTable =\n",
              "          await google.colab.kernel.invokeFunction('convertToInteractive',\n",
              "                                                    [key], {});\n",
              "        if (!dataTable) return;\n",
              "\n",
              "        const docLinkHtml = 'Like what you see? Visit the ' +\n",
              "          '<a target=\"_blank\" href=https://colab.research.google.com/notebooks/data_table.ipynb>data table notebook</a>'\n",
              "          + ' to learn more about interactive tables.';\n",
              "        element.innerHTML = '';\n",
              "        dataTable['output_type'] = 'display_data';\n",
              "        await google.colab.output.renderOutput(dataTable, element);\n",
              "        const docLink = document.createElement('div');\n",
              "        docLink.innerHTML = docLinkHtml;\n",
              "        element.appendChild(docLink);\n",
              "      }\n",
              "    </script>\n",
              "  </div>\n",
              "\n",
              "\n",
              "<div id=\"df-e932bbb7-a752-4ba8-9a6b-ee95579366b2\">\n",
              "  <button class=\"colab-df-quickchart\" onclick=\"quickchart('df-e932bbb7-a752-4ba8-9a6b-ee95579366b2')\"\n",
              "            title=\"Suggest charts\"\n",
              "            style=\"display:none;\">\n",
              "\n",
              "<svg xmlns=\"http://www.w3.org/2000/svg\" height=\"24px\"viewBox=\"0 0 24 24\"\n",
              "     width=\"24px\">\n",
              "    <g>\n",
              "        <path d=\"M19 3H5c-1.1 0-2 .9-2 2v14c0 1.1.9 2 2 2h14c1.1 0 2-.9 2-2V5c0-1.1-.9-2-2-2zM9 17H7v-7h2v7zm4 0h-2V7h2v10zm4 0h-2v-4h2v4z\"/>\n",
              "    </g>\n",
              "</svg>\n",
              "  </button>\n",
              "\n",
              "<style>\n",
              "  .colab-df-quickchart {\n",
              "      --bg-color: #E8F0FE;\n",
              "      --fill-color: #1967D2;\n",
              "      --hover-bg-color: #E2EBFA;\n",
              "      --hover-fill-color: #174EA6;\n",
              "      --disabled-fill-color: #AAA;\n",
              "      --disabled-bg-color: #DDD;\n",
              "  }\n",
              "\n",
              "  [theme=dark] .colab-df-quickchart {\n",
              "      --bg-color: #3B4455;\n",
              "      --fill-color: #D2E3FC;\n",
              "      --hover-bg-color: #434B5C;\n",
              "      --hover-fill-color: #FFFFFF;\n",
              "      --disabled-bg-color: #3B4455;\n",
              "      --disabled-fill-color: #666;\n",
              "  }\n",
              "\n",
              "  .colab-df-quickchart {\n",
              "    background-color: var(--bg-color);\n",
              "    border: none;\n",
              "    border-radius: 50%;\n",
              "    cursor: pointer;\n",
              "    display: none;\n",
              "    fill: var(--fill-color);\n",
              "    height: 32px;\n",
              "    padding: 0;\n",
              "    width: 32px;\n",
              "  }\n",
              "\n",
              "  .colab-df-quickchart:hover {\n",
              "    background-color: var(--hover-bg-color);\n",
              "    box-shadow: 0 1px 2px rgba(60, 64, 67, 0.3), 0 1px 3px 1px rgba(60, 64, 67, 0.15);\n",
              "    fill: var(--button-hover-fill-color);\n",
              "  }\n",
              "\n",
              "  .colab-df-quickchart-complete:disabled,\n",
              "  .colab-df-quickchart-complete:disabled:hover {\n",
              "    background-color: var(--disabled-bg-color);\n",
              "    fill: var(--disabled-fill-color);\n",
              "    box-shadow: none;\n",
              "  }\n",
              "\n",
              "  .colab-df-spinner {\n",
              "    border: 2px solid var(--fill-color);\n",
              "    border-color: transparent;\n",
              "    border-bottom-color: var(--fill-color);\n",
              "    animation:\n",
              "      spin 1s steps(1) infinite;\n",
              "  }\n",
              "\n",
              "  @keyframes spin {\n",
              "    0% {\n",
              "      border-color: transparent;\n",
              "      border-bottom-color: var(--fill-color);\n",
              "      border-left-color: var(--fill-color);\n",
              "    }\n",
              "    20% {\n",
              "      border-color: transparent;\n",
              "      border-left-color: var(--fill-color);\n",
              "      border-top-color: var(--fill-color);\n",
              "    }\n",
              "    30% {\n",
              "      border-color: transparent;\n",
              "      border-left-color: var(--fill-color);\n",
              "      border-top-color: var(--fill-color);\n",
              "      border-right-color: var(--fill-color);\n",
              "    }\n",
              "    40% {\n",
              "      border-color: transparent;\n",
              "      border-right-color: var(--fill-color);\n",
              "      border-top-color: var(--fill-color);\n",
              "    }\n",
              "    60% {\n",
              "      border-color: transparent;\n",
              "      border-right-color: var(--fill-color);\n",
              "    }\n",
              "    80% {\n",
              "      border-color: transparent;\n",
              "      border-right-color: var(--fill-color);\n",
              "      border-bottom-color: var(--fill-color);\n",
              "    }\n",
              "    90% {\n",
              "      border-color: transparent;\n",
              "      border-bottom-color: var(--fill-color);\n",
              "    }\n",
              "  }\n",
              "</style>\n",
              "\n",
              "  <script>\n",
              "    async function quickchart(key) {\n",
              "      const quickchartButtonEl =\n",
              "        document.querySelector('#' + key + ' button');\n",
              "      quickchartButtonEl.disabled = true;  // To prevent multiple clicks.\n",
              "      quickchartButtonEl.classList.add('colab-df-spinner');\n",
              "      try {\n",
              "        const charts = await google.colab.kernel.invokeFunction(\n",
              "            'suggestCharts', [key], {});\n",
              "      } catch (error) {\n",
              "        console.error('Error during call to suggestCharts:', error);\n",
              "      }\n",
              "      quickchartButtonEl.classList.remove('colab-df-spinner');\n",
              "      quickchartButtonEl.classList.add('colab-df-quickchart-complete');\n",
              "    }\n",
              "    (() => {\n",
              "      let quickchartButtonEl =\n",
              "        document.querySelector('#df-e932bbb7-a752-4ba8-9a6b-ee95579366b2 button');\n",
              "      quickchartButtonEl.style.display =\n",
              "        google.colab.kernel.accessAllowed ? 'block' : 'none';\n",
              "    })();\n",
              "  </script>\n",
              "</div>\n",
              "\n",
              "    </div>\n",
              "  </div>\n"
            ],
            "application/vnd.google.colaboratory.intrinsic+json": {
              "type": "dataframe",
              "variable_name": "df",
              "summary": "{\n  \"name\": \"df\",\n  \"rows\": 250,\n  \"fields\": [\n    {\n      \"column\": \"Name\",\n      \"properties\": {\n        \"dtype\": \"string\",\n        \"num_unique_values\": 250,\n        \"samples\": [\n          \"143. Lonesome Dove\",\n          \"7. Avatar: The Last Airbender\",\n          \"98. Bleach: Thousand-Year Blood War\"\n        ],\n        \"semantic_type\": \"\",\n        \"description\": \"\"\n      }\n    },\n    {\n      \"column\": \"Year\",\n      \"properties\": {\n        \"dtype\": \"string\",\n        \"num_unique_values\": 180,\n        \"samples\": [\n          \"1959\\u20131964\",\n          \"2018\\u20132023\",\n          \"2001\\u20132017\"\n        ],\n        \"semantic_type\": \"\",\n        \"description\": \"\"\n      }\n    },\n    {\n      \"column\": \"Episodes\",\n      \"properties\": {\n        \"dtype\": \"category\",\n        \"num_unique_values\": 116,\n        \"samples\": [\n          \"38 eps\",\n          \"5 eps\",\n          \"111 eps\"\n        ],\n        \"semantic_type\": \"\",\n        \"description\": \"\"\n      }\n    },\n    {\n      \"column\": \"Type\",\n      \"properties\": {\n        \"dtype\": \"category\",\n        \"num_unique_values\": 9,\n        \"samples\": [\n          \"TV-Y7\",\n          \"TV-G\",\n          \"TV-Y\"\n        ],\n        \"semantic_type\": \"\",\n        \"description\": \"\"\n      }\n    },\n    {\n      \"column\": \"Rating\",\n      \"properties\": {\n        \"dtype\": \"number\",\n        \"std\": 0.23047497664483652,\n        \"min\": 8.4,\n        \"max\": 9.5,\n        \"num_unique_values\": 12,\n        \"samples\": [\n          8.5,\n          8.6,\n          9.5\n        ],\n        \"semantic_type\": \"\",\n        \"description\": \"\"\n      }\n    },\n    {\n      \"column\": \"Image-src\",\n      \"properties\": {\n        \"dtype\": \"string\",\n        \"num_unique_values\": 250,\n        \"samples\": [\n          \"https://m.media-amazon.com/images/M/MV5BMmJmYTg0MDEtN2VjMC00YmUxLWFhNmMtZTBiYjQ2ZGQ5ZWMyXkEyXkFqcGdeQXVyNTE1NjY5Mg@@._V1_QL75_UX140_CR0,0,140,207_.jpg\",\n          \"https://m.media-amazon.com/images/M/MV5BODc5YTBhMTItMjhkNi00ZTIxLWI0YjAtNTZmOTY0YjRlZGQ0XkEyXkFqcGdeQXVyODUwNjEzMzg@._V1_QL75_UY207_CR1,0,140,207_.jpg\",\n          \"https://m.media-amazon.com/images/M/MV5BODFmYTUwYzMtM2M2My00NGExLWIzMDctYmRjNTNhZDc4MGI2XkEyXkFqcGdeQXVyMTMzNDExODE5._V1_QL75_UY207_CR3,0,140,207_.jpg\"\n        ],\n        \"semantic_type\": \"\",\n        \"description\": \"\"\n      }\n    },\n    {\n      \"column\": \"Description\",\n      \"properties\": {\n        \"dtype\": \"string\",\n        \"num_unique_values\": 250,\n        \"samples\": [\n          \"Two former Texas Rangers renew their spirit of adventure as they and several other residents of a small Texas town join a cattle drive to the Montana Territory.\",\n          \"In a war-torn world of elemental magic, a young boy reawakens to undertake a dangerous mystic quest to fulfill his destiny as the Avatar, and bring peace to the world.\",\n          \"The peace is suddenly broken when warning sirens blare through the Soul Society. Residents are disappearing without a trace and nobody knows who's behind it. Meanwhile, a darkness is approac... Read all\"\n        ],\n        \"semantic_type\": \"\",\n        \"description\": \"\"\n      }\n    },\n    {\n      \"column\": \"Name-href\",\n      \"properties\": {\n        \"dtype\": \"string\",\n        \"num_unique_values\": 250,\n        \"samples\": [\n          \"https://www.imdb.com/title/tt0096639/?ref_=chttvtp_t_143\",\n          \"https://www.imdb.com/title/tt0417299/?ref_=chttvtp_t_7\",\n          \"https://www.imdb.com/title/tt14986406/?ref_=chttvtp_t_98\"\n        ],\n        \"semantic_type\": \"\",\n        \"description\": \"\"\n      }\n    }\n  ]\n}"
            }
          },
          "metadata": {},
          "execution_count": 7
        }
      ]
    },
    {
      "cell_type": "markdown",
      "source": [
        "#Combining Name and Description"
      ],
      "metadata": {
        "id": "hb6xITvQvxBf"
      }
    },
    {
      "cell_type": "code",
      "source": [
        "df['Combined'] = df['Name'] + ' ' + df['Description']\n",
        "df.Combined"
      ],
      "metadata": {
        "id": "QvHBmmb8v2_Y",
        "outputId": "d4bf5e75-8b50-450c-83f3-3413d32a603f",
        "colab": {
          "base_uri": "https://localhost:8080/",
          "height": 458
        }
      },
      "execution_count": 10,
      "outputs": [
        {
          "output_type": "execute_result",
          "data": {
            "text/plain": [
              "0      1. Breaking Bad A chemistry teacher diagnosed ...\n",
              "1      2. Planet Earth II David Attenborough returns ...\n",
              "2      3. Planet Earth A documentary series on the wi...\n",
              "3      4. Band of Brothers The story of Easy Company ...\n",
              "4      5. Chernobyl In April 1986, an explosion at th...\n",
              "                             ...                        \n",
              "245    246. RuPaul's Drag Race RuPaul searches for Am...\n",
              "246    247. Foyle's War As WWII rages, DCS Foyle figh...\n",
              "247    248. Southland The lives of Police Officers wo...\n",
              "248    249. Kardes Payi The two brothers have a plumb...\n",
              "249    250. Big Little Lies The apparently-perfect li...\n",
              "Name: Combined, Length: 250, dtype: object"
            ],
            "text/html": [
              "<div>\n",
              "<style scoped>\n",
              "    .dataframe tbody tr th:only-of-type {\n",
              "        vertical-align: middle;\n",
              "    }\n",
              "\n",
              "    .dataframe tbody tr th {\n",
              "        vertical-align: top;\n",
              "    }\n",
              "\n",
              "    .dataframe thead th {\n",
              "        text-align: right;\n",
              "    }\n",
              "</style>\n",
              "<table border=\"1\" class=\"dataframe\">\n",
              "  <thead>\n",
              "    <tr style=\"text-align: right;\">\n",
              "      <th></th>\n",
              "      <th>Combined</th>\n",
              "    </tr>\n",
              "  </thead>\n",
              "  <tbody>\n",
              "    <tr>\n",
              "      <th>0</th>\n",
              "      <td>1. Breaking Bad A chemistry teacher diagnosed ...</td>\n",
              "    </tr>\n",
              "    <tr>\n",
              "      <th>1</th>\n",
              "      <td>2. Planet Earth II David Attenborough returns ...</td>\n",
              "    </tr>\n",
              "    <tr>\n",
              "      <th>2</th>\n",
              "      <td>3. Planet Earth A documentary series on the wi...</td>\n",
              "    </tr>\n",
              "    <tr>\n",
              "      <th>3</th>\n",
              "      <td>4. Band of Brothers The story of Easy Company ...</td>\n",
              "    </tr>\n",
              "    <tr>\n",
              "      <th>4</th>\n",
              "      <td>5. Chernobyl In April 1986, an explosion at th...</td>\n",
              "    </tr>\n",
              "    <tr>\n",
              "      <th>...</th>\n",
              "      <td>...</td>\n",
              "    </tr>\n",
              "    <tr>\n",
              "      <th>245</th>\n",
              "      <td>246. RuPaul's Drag Race RuPaul searches for Am...</td>\n",
              "    </tr>\n",
              "    <tr>\n",
              "      <th>246</th>\n",
              "      <td>247. Foyle's War As WWII rages, DCS Foyle figh...</td>\n",
              "    </tr>\n",
              "    <tr>\n",
              "      <th>247</th>\n",
              "      <td>248. Southland The lives of Police Officers wo...</td>\n",
              "    </tr>\n",
              "    <tr>\n",
              "      <th>248</th>\n",
              "      <td>249. Kardes Payi The two brothers have a plumb...</td>\n",
              "    </tr>\n",
              "    <tr>\n",
              "      <th>249</th>\n",
              "      <td>250. Big Little Lies The apparently-perfect li...</td>\n",
              "    </tr>\n",
              "  </tbody>\n",
              "</table>\n",
              "<p>250 rows × 1 columns</p>\n",
              "</div><br><label><b>dtype:</b> object</label>"
            ]
          },
          "metadata": {},
          "execution_count": 10
        }
      ]
    },
    {
      "cell_type": "markdown",
      "source": [
        "#Preprocessing"
      ],
      "metadata": {
        "id": "zsgKcti2wVTq"
      }
    },
    {
      "cell_type": "code",
      "source": [
        "import re\n",
        "import nltk\n",
        "from nltk.corpus import stopwords\n",
        "from nltk.stem import WordNetLemmatizer"
      ],
      "metadata": {
        "id": "3GQxoKKzwZtF"
      },
      "execution_count": 11,
      "outputs": []
    },
    {
      "cell_type": "code",
      "source": [
        "nltk.download('stopwords') #common words\n",
        "nltk.download('wordnet')   #similar words"
      ],
      "metadata": {
        "id": "bmLS5uDQweVi",
        "outputId": "e1536e01-a61e-4400-b0ea-0fd37d281305",
        "colab": {
          "base_uri": "https://localhost:8080/"
        }
      },
      "execution_count": 12,
      "outputs": [
        {
          "output_type": "stream",
          "name": "stderr",
          "text": [
            "[nltk_data] Downloading package stopwords to /root/nltk_data...\n",
            "[nltk_data]   Unzipping corpora/stopwords.zip.\n",
            "[nltk_data] Downloading package wordnet to /root/nltk_data...\n"
          ]
        },
        {
          "output_type": "execute_result",
          "data": {
            "text/plain": [
              "True"
            ]
          },
          "metadata": {},
          "execution_count": 12
        }
      ]
    },
    {
      "cell_type": "code",
      "source": [
        "def preprocess_text(text):\n",
        "    # 1. Lowercasing\n",
        "    text = text.lower()\n",
        "\n",
        "    # 2. Removing punctuation and special characters\n",
        "    text = re.sub(r'[^\\w\\s]', '', text) #r'-->raw string, ^-->negation, \\w-->word, \\s-->space,tab,newline\n",
        "\n",
        "    # 3. Removing numbers\n",
        "    text = re.sub(r'\\d+', '', text) #\\d+--> one or more consecutive digit characters\n",
        "\n",
        "    # 4. Tokenization\n",
        "    words = text.split()\n",
        "\n",
        "    # 5. Removing stop words\n",
        "    stop_words = set(stopwords.words('english'))\n",
        "    words = [word for word in words if word not in stop_words] #filters a list of words(present in stop words)\n",
        "\n",
        "    # 6. Lemmatization(main verb)\n",
        "    lemmatizer = WordNetLemmatizer()\n",
        "    words = [lemmatizer.lemmatize(word) for word in words]\n",
        "\n",
        "    # 7. Joining the words back into a string\n",
        "    text = ' '.join(words)\n",
        "\n",
        "    return text\n"
      ],
      "metadata": {
        "id": "gdAlQvo4w2gL"
      },
      "execution_count": 15,
      "outputs": []
    },
    {
      "cell_type": "markdown",
      "source": [
        "Loops are for iterating and executing statements, while comprehensions are for building and returning new data structures"
      ],
      "metadata": {
        "id": "TyDMx1my0Zed"
      }
    },
    {
      "cell_type": "code",
      "source": [
        "df['Combined'] = df['Combined'].apply(preprocess_text)"
      ],
      "metadata": {
        "id": "uyjjhbl2xBS0"
      },
      "execution_count": 16,
      "outputs": []
    },
    {
      "cell_type": "markdown",
      "source": [
        "#Converting into a Vector"
      ],
      "metadata": {
        "id": "pz6PhC4b1cA7"
      }
    },
    {
      "cell_type": "code",
      "source": [
        "import gensim\n",
        "from gensim.models import Word2Vec\n",
        "\n",
        "# 1. Prepare the data\n",
        "sentences = [text.split() for text in df['Combined']]\n",
        "\n",
        "# 2. Train the Word2Vec model\n",
        "model = Word2Vec(sentences, vector_size=100, window=5, min_count=1, workers=4)\n",
        "\n",
        "# 3. Function to convert text to vector\n",
        "def text_to_vector(text):\n",
        "    words = text.split()\n",
        "    vectors = [model.wv[word] for word in words if word in model.wv]\n",
        "    if vectors:\n",
        "        return np.mean(vectors, axis=0)\n",
        "    else:\n",
        "        return np.zeros(model.vector_size)\n",
        "\n",
        "# 4. Apply the function to the \"Combined\" column\n",
        "df['Combined_Vector'] = df['Combined'].apply(text_to_vector)"
      ],
      "metadata": {
        "id": "h9qUH8ut1G9-"
      },
      "execution_count": 17,
      "outputs": []
    },
    {
      "cell_type": "markdown",
      "source": [
        "#Finding TOP 5 TV Shows"
      ],
      "metadata": {
        "id": "jsDTXFg21k-w"
      }
    },
    {
      "cell_type": "code",
      "source": [
        "from sklearn.metrics.pairwise import cosine_similarity"
      ],
      "metadata": {
        "id": "y0-1AMFb1wKQ"
      },
      "execution_count": 18,
      "outputs": []
    },
    {
      "cell_type": "markdown",
      "source": [
        "# 1. Calculate cosine similarity matrix\n",
        "\n"
      ],
      "metadata": {
        "id": "hoJZQPIE1z3k"
      }
    },
    {
      "cell_type": "code",
      "source": [
        "similarity_matrix = cosine_similarity(df['Combined_Vector'].to_list())"
      ],
      "metadata": {
        "id": "1o84Pr3B1116"
      },
      "execution_count": 19,
      "outputs": []
    },
    {
      "cell_type": "markdown",
      "source": [
        "# 2. Function to get top similar shows\n"
      ],
      "metadata": {
        "id": "JoW6n7tC16ep"
      }
    },
    {
      "cell_type": "code",
      "source": [
        "def get_similar_shows(show_index, top_n=5):\n",
        "    similarities = similarity_matrix[show_index]\n",
        "    sorted_indices = similarities.argsort()[::-1]\n",
        "    top_indices = sorted_indices[1:top_n + 1]  # Exclude the show itself\n",
        "    return df.iloc[top_indices]['Name'].to_list()"
      ],
      "metadata": {
        "id": "yHUMGpVZ18YU"
      },
      "execution_count": 20,
      "outputs": []
    },
    {
      "cell_type": "code",
      "source": [
        "similar_shows = get_similar_shows(0, top_n=5)\n",
        "print(similar_shows)"
      ],
      "metadata": {
        "id": "iBXuj4Uy1_lD",
        "outputId": "5132ce2a-e31f-4b6b-9cea-31fe578bfede",
        "colab": {
          "base_uri": "https://localhost:8080/"
        }
      },
      "execution_count": 21,
      "outputs": [
        {
          "output_type": "stream",
          "name": "stdout",
          "text": [
            "['159. Pose', '128. Deadwood', '242. Queer Eye', '81. Peaky Blinders', '106. Star Trek: The Next Generation']\n"
          ]
        }
      ]
    }
  ]
}